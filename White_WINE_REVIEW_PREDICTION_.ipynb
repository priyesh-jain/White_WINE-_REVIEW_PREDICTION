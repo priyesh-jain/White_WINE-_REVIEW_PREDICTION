{
  "nbformat": 4,
  "nbformat_minor": 0,
  "metadata": {
    "colab": {
      "name": " White_WINE_REVIEW_PREDICTION .ipynb",
      "provenance": [],
      "collapsed_sections": [],
      "include_colab_link": true
    },
    "kernelspec": {
      "display_name": "Python 3",
      "name": "python3"
    }
  },
  "cells": [
    {
      "cell_type": "markdown",
      "metadata": {
        "id": "view-in-github",
        "colab_type": "text"
      },
      "source": [
        "<a href=\"https://colab.research.google.com/github/priyesh-jain/White_WINE-_REVIEW_PREDICTION/blob/main/White_WINE_REVIEW_PREDICTION_.ipynb\" target=\"_parent\"><img src=\"https://colab.research.google.com/assets/colab-badge.svg\" alt=\"Open In Colab\"/></a>"
      ]
    },
    {
      "cell_type": "markdown",
      "metadata": {
        "id": "w3j56sNvk6Yj"
      },
      "source": [
        "Importing libraries"
      ]
    },
    {
      "cell_type": "code",
      "metadata": {
        "id": "aaAuZZ1Zg6E4"
      },
      "source": [
        "import numpy as np   # linear algebra\n",
        "import pandas as pd  # data processing, CSV file I/O (e.g. pd.read_csv)\n",
        "# import matplotlib and seaborn\n",
        "# for plotting\n",
        "import matplotlib\n",
        "import matplotlib.pyplot as plt\n",
        "import seaborn as sns\n",
        "from collections import Counter\n",
        "\n",
        "from sklearn.model_selection import train_test_split\n",
        "from sklearn.preprocessing import StandardScaler\n",
        "sc=StandardScaler()\n",
        "from sklearn.linear_model import LogisticRegression\n",
        "from sklearn.metrics import confusion_matrix\n",
        "from sklearn.metrics import accuracy_score,classification_report\n",
        "from sklearn.tree import DecisionTreeRegressor\n",
        "from sklearn.ensemble import RandomForestRegressor\n",
        "from sklearn.metrics import mean_squared_error\n",
        "# This line ensures that the plot is displayed\n",
        "# inside the notebook\n",
        "%matplotlib inline\n",
        "\n"
      ],
      "execution_count": 1,
      "outputs": []
    },
    {
      "cell_type": "markdown",
      "metadata": {
        "id": "rwCfkfNcANuD"
      },
      "source": [
        "Reading the dataset\n"
      ]
    },
    {
      "cell_type": "code",
      "metadata": {
        "id": "u0qLgHzzdtTx"
      },
      "source": [
        "data=pd.read_csv('winequality-white.csv',sep=';')"
      ],
      "execution_count": 2,
      "outputs": []
    },
    {
      "cell_type": "markdown",
      "metadata": {
        "id": "c8J3esOZAeTP"
      },
      "source": [
        "Attribute of dataset"
      ]
    },
    {
      "cell_type": "code",
      "metadata": {
        "id": "Jperk-_5hG1i",
        "colab": {
          "base_uri": "https://localhost:8080/"
        },
        "outputId": "c5f3baaf-05ca-4997-f995-73336bd6f42c"
      },
      "source": [
        "data.columns"
      ],
      "execution_count": 3,
      "outputs": [
        {
          "output_type": "execute_result",
          "data": {
            "text/plain": [
              "Index(['fixed acidity', 'volatile acidity', 'citric acid', 'residual sugar',\n",
              "       'chlorides', 'free sulfur dioxide', 'total sulfur dioxide', 'density',\n",
              "       'pH', 'sulphates', 'alcohol', 'quality'],\n",
              "      dtype='object')"
            ]
          },
          "metadata": {},
          "execution_count": 3
        }
      ]
    },
    {
      "cell_type": "markdown",
      "metadata": {
        "id": "IOXljFq2dZfJ"
      },
      "source": [
        "Information about different attributes in dataset\n"
      ]
    },
    {
      "cell_type": "code",
      "metadata": {
        "id": "o7zGm2Xthzcd",
        "colab": {
          "base_uri": "https://localhost:8080/"
        },
        "outputId": "0b7c29a9-568a-43e5-bc22-2ac31500e2c4"
      },
      "source": [
        "data.info"
      ],
      "execution_count": 4,
      "outputs": [
        {
          "output_type": "execute_result",
          "data": {
            "text/plain": [
              "<bound method DataFrame.info of       fixed acidity  volatile acidity  citric acid  ...  sulphates  alcohol  quality\n",
              "0               7.0              0.27         0.36  ...       0.45      8.8        6\n",
              "1               6.3              0.30         0.34  ...       0.49      9.5        6\n",
              "2               8.1              0.28         0.40  ...       0.44     10.1        6\n",
              "3               7.2              0.23         0.32  ...       0.40      9.9        6\n",
              "4               7.2              0.23         0.32  ...       0.40      9.9        6\n",
              "...             ...               ...          ...  ...        ...      ...      ...\n",
              "4893            6.2              0.21         0.29  ...       0.50     11.2        6\n",
              "4894            6.6              0.32         0.36  ...       0.46      9.6        5\n",
              "4895            6.5              0.24         0.19  ...       0.46      9.4        6\n",
              "4896            5.5              0.29         0.30  ...       0.38     12.8        7\n",
              "4897            6.0              0.21         0.38  ...       0.32     11.8        6\n",
              "\n",
              "[4898 rows x 12 columns]>"
            ]
          },
          "metadata": {},
          "execution_count": 4
        }
      ]
    },
    {
      "cell_type": "markdown",
      "metadata": {
        "id": "hetg0XTeeI2D"
      },
      "source": [
        "Size of dataset "
      ]
    },
    {
      "cell_type": "code",
      "metadata": {
        "id": "fhK4SRbnH2r8",
        "colab": {
          "base_uri": "https://localhost:8080/"
        },
        "outputId": "eb46c288-9ce5-4ae9-ac18-ff17b94b2a5c"
      },
      "source": [
        "data.shape"
      ],
      "execution_count": 5,
      "outputs": [
        {
          "output_type": "execute_result",
          "data": {
            "text/plain": [
              "(4898, 12)"
            ]
          },
          "metadata": {},
          "execution_count": 5
        }
      ]
    },
    {
      "cell_type": "markdown",
      "metadata": {
        "id": "Oal4F4RJeelt"
      },
      "source": [
        "Chcking for missing values in dataset"
      ]
    },
    {
      "cell_type": "code",
      "metadata": {
        "id": "g9AWazVbPTFG",
        "colab": {
          "base_uri": "https://localhost:8080/"
        },
        "outputId": "347534f4-43dd-4e8b-d2b8-6d8da7247af1"
      },
      "source": [
        "print(data.isna().sum())"
      ],
      "execution_count": 6,
      "outputs": [
        {
          "output_type": "stream",
          "name": "stdout",
          "text": [
            "fixed acidity           0\n",
            "volatile acidity        0\n",
            "citric acid             0\n",
            "residual sugar          0\n",
            "chlorides               0\n",
            "free sulfur dioxide     0\n",
            "total sulfur dioxide    0\n",
            "density                 0\n",
            "pH                      0\n",
            "sulphates               0\n",
            "alcohol                 0\n",
            "quality                 0\n",
            "dtype: int64\n"
          ]
        }
      ]
    },
    {
      "cell_type": "markdown",
      "metadata": {
        "id": "FgbJbTZgermS"
      },
      "source": [
        "Datatypes of different attribute"
      ]
    },
    {
      "cell_type": "code",
      "metadata": {
        "id": "csqEBOO7Pedm",
        "colab": {
          "base_uri": "https://localhost:8080/"
        },
        "outputId": "84aeefda-ec21-4380-d44f-3856413ec201"
      },
      "source": [
        "data.dtypes"
      ],
      "execution_count": 7,
      "outputs": [
        {
          "output_type": "execute_result",
          "data": {
            "text/plain": [
              "fixed acidity           float64\n",
              "volatile acidity        float64\n",
              "citric acid             float64\n",
              "residual sugar          float64\n",
              "chlorides               float64\n",
              "free sulfur dioxide     float64\n",
              "total sulfur dioxide    float64\n",
              "density                 float64\n",
              "pH                      float64\n",
              "sulphates               float64\n",
              "alcohol                 float64\n",
              "quality                   int64\n",
              "dtype: object"
            ]
          },
          "metadata": {},
          "execution_count": 7
        }
      ]
    },
    {
      "cell_type": "markdown",
      "metadata": {
        "id": "kYFSMp0eezC5"
      },
      "source": [
        "Plotting graph between quality and  thier count. "
      ]
    },
    {
      "cell_type": "code",
      "metadata": {
        "colab": {
          "base_uri": "https://localhost:8080/",
          "height": 297
        },
        "id": "biRV6yKYM0-r",
        "outputId": "e54daf51-0cd3-4136-b1e9-a5bfe51403bd"
      },
      "source": [
        "#count of the quality variable\n",
        "sns.countplot(x='quality', data=data)\n"
      ],
      "execution_count": 8,
      "outputs": [
        {
          "output_type": "execute_result",
          "data": {
            "text/plain": [
              "<matplotlib.axes._subplots.AxesSubplot at 0x7f840b3b1490>"
            ]
          },
          "metadata": {},
          "execution_count": 8
        },
        {
          "output_type": "display_data",
          "data": {
            "image/png": "[encoded data removed]",
            "text/plain": [
              "<Figure size 432x288 with 1 Axes>"
            ]
          },
          "metadata": {
            "needs_background": "light"
          }
        }
      ]
    },
    {
      "cell_type": "markdown",
      "metadata": {
        "id": "VkJVSMqyfSBs"
      },
      "source": [
        "In it we have output about the count ,mean,standard deviation and many other thing of the differnt attribute in a dataset."
      ]
    },
    {
      "cell_type": "code",
      "metadata": {
        "id": "NOqLklHZisqJ",
        "colab": {
          "base_uri": "https://localhost:8080/",
          "height": 355
        },
        "outputId": "d40033d9-6dd4-4f00-e867-855dacfc2504"
      },
      "source": [
        "data.describe()"
      ],
      "execution_count": 9,
      "outputs": [
        {
          "output_type": "execute_result",
          "data": {
            "text/html": [
              "<div>\n",
              "<style scoped>\n",
              "    .dataframe tbody tr th:only-of-type {\n",
              "        vertical-align: middle;\n",
              "    }\n",
              "\n",
              "    .dataframe tbody tr th {\n",
              "        vertical-align: top;\n",
              "    }\n",
              "\n",
              "    .dataframe thead th {\n",
              "        text-align: right;\n",
              "    }\n",
              "</style>\n",
              "<table border=\"1\" class=\"dataframe\">\n",
              "  <thead>\n",
              "    <tr style=\"text-align: right;\">\n",
              "      <th></th>\n",
              "      <th>fixed acidity</th>\n",
              "      <th>volatile acidity</th>\n",
              "      <th>citric acid</th>\n",
              "      <th>residual sugar</th>\n",
              "      <th>chlorides</th>\n",
              "      <th>free sulfur dioxide</th>\n",
              "      <th>total sulfur dioxide</th>\n",
              "      <th>density</th>\n",
              "      <th>pH</th>\n",
              "      <th>sulphates</th>\n",
              "      <th>alcohol</th>\n",
              "      <th>quality</th>\n",
              "    </tr>\n",
              "  </thead>\n",
              "  <tbody>\n",
              "    <tr>\n",
              "      <th>count</th>\n",
              "      <td>4898.000000</td>\n",
              "      <td>4898.000000</td>\n",
              "      <td>4898.000000</td>\n",
              "      <td>4898.000000</td>\n",
              "      <td>4898.000000</td>\n",
              "      <td>4898.000000</td>\n",
              "      <td>4898.000000</td>\n",
              "      <td>4898.000000</td>\n",
              "      <td>4898.000000</td>\n",
              "      <td>4898.000000</td>\n",
              "      <td>4898.000000</td>\n",
              "      <td>4898.000000</td>\n",
              "    </tr>\n",
              "    <tr>\n",
              "      <th>mean</th>\n",
              "      <td>6.854788</td>\n",
              "      <td>0.278241</td>\n",
              "      <td>0.334192</td>\n",
              "      <td>6.391415</td>\n",
              "      <td>0.045772</td>\n",
              "      <td>35.308085</td>\n",
              "      <td>138.360657</td>\n",
              "      <td>0.994027</td>\n",
              "      <td>3.188267</td>\n",
              "      <td>0.489847</td>\n",
              "      <td>10.514267</td>\n",
              "      <td>5.877909</td>\n",
              "    </tr>\n",
              "    <tr>\n",
              "      <th>std</th>\n",
              "      <td>0.843868</td>\n",
              "      <td>0.100795</td>\n",
              "      <td>0.121020</td>\n",
              "      <td>5.072058</td>\n",
              "      <td>0.021848</td>\n",
              "      <td>17.007137</td>\n",
              "      <td>42.498065</td>\n",
              "      <td>0.002991</td>\n",
              "      <td>0.151001</td>\n",
              "      <td>0.114126</td>\n",
              "      <td>1.230621</td>\n",
              "      <td>0.885639</td>\n",
              "    </tr>\n",
              "    <tr>\n",
              "      <th>min</th>\n",
              "      <td>3.800000</td>\n",
              "      <td>0.080000</td>\n",
              "      <td>0.000000</td>\n",
              "      <td>0.600000</td>\n",
              "      <td>0.009000</td>\n",
              "      <td>2.000000</td>\n",
              "      <td>9.000000</td>\n",
              "      <td>0.987110</td>\n",
              "      <td>2.720000</td>\n",
              "      <td>0.220000</td>\n",
              "      <td>8.000000</td>\n",
              "      <td>3.000000</td>\n",
              "    </tr>\n",
              "    <tr>\n",
              "      <th>25%</th>\n",
              "      <td>6.300000</td>\n",
              "      <td>0.210000</td>\n",
              "      <td>0.270000</td>\n",
              "      <td>1.700000</td>\n",
              "      <td>0.036000</td>\n",
              "      <td>23.000000</td>\n",
              "      <td>108.000000</td>\n",
              "      <td>0.991723</td>\n",
              "      <td>3.090000</td>\n",
              "      <td>0.410000</td>\n",
              "      <td>9.500000</td>\n",
              "      <td>5.000000</td>\n",
              "    </tr>\n",
              "    <tr>\n",
              "      <th>50%</th>\n",
              "      <td>6.800000</td>\n",
              "      <td>0.260000</td>\n",
              "      <td>0.320000</td>\n",
              "      <td>5.200000</td>\n",
              "      <td>0.043000</td>\n",
              "      <td>34.000000</td>\n",
              "      <td>134.000000</td>\n",
              "      <td>0.993740</td>\n",
              "      <td>3.180000</td>\n",
              "      <td>0.470000</td>\n",
              "      <td>10.400000</td>\n",
              "      <td>6.000000</td>\n",
              "    </tr>\n",
              "    <tr>\n",
              "      <th>75%</th>\n",
              "      <td>7.300000</td>\n",
              "      <td>0.320000</td>\n",
              "      <td>0.390000</td>\n",
              "      <td>9.900000</td>\n",
              "      <td>0.050000</td>\n",
              "      <td>46.000000</td>\n",
              "      <td>167.000000</td>\n",
              "      <td>0.996100</td>\n",
              "      <td>3.280000</td>\n",
              "      <td>0.550000</td>\n",
              "      <td>11.400000</td>\n",
              "      <td>6.000000</td>\n",
              "    </tr>\n",
              "    <tr>\n",
              "      <th>max</th>\n",
              "      <td>14.200000</td>\n",
              "      <td>1.100000</td>\n",
              "      <td>1.660000</td>\n",
              "      <td>65.800000</td>\n",
              "      <td>0.346000</td>\n",
              "      <td>289.000000</td>\n",
              "      <td>440.000000</td>\n",
              "      <td>1.038980</td>\n",
              "      <td>3.820000</td>\n",
              "      <td>1.080000</td>\n",
              "      <td>14.200000</td>\n",
              "      <td>9.000000</td>\n",
              "    </tr>\n",
              "  </tbody>\n",
              "</table>\n",
              "</div>"
            ],
            "text/plain": [
              "       fixed acidity  volatile acidity  ...      alcohol      quality\n",
              "count    4898.000000       4898.000000  ...  4898.000000  4898.000000\n",
              "mean        6.854788          0.278241  ...    10.514267     5.877909\n",
              "std         0.843868          0.100795  ...     1.230621     0.885639\n",
              "min         3.800000          0.080000  ...     8.000000     3.000000\n",
              "25%         6.300000          0.210000  ...     9.500000     5.000000\n",
              "50%         6.800000          0.260000  ...    10.400000     6.000000\n",
              "75%         7.300000          0.320000  ...    11.400000     6.000000\n",
              "max        14.200000          1.100000  ...    14.200000     9.000000\n",
              "\n",
              "[8 rows x 12 columns]"
            ]
          },
          "metadata": {},
          "execution_count": 9
        }
      ]
    },
    {
      "cell_type": "markdown",
      "metadata": {
        "id": "Xwz3hbZPgJ5x"
      },
      "source": [
        "*Pandas dataframe.corr() is used to find the pairwise correlation of all columns in the dataframe. Any na values are automatically excluded. For any non-numeric data type columns in the dataframe it is ignored.*"
      ]
    },
    {
      "cell_type": "code",
      "metadata": {
        "id": "RarP9-4ri63p",
        "colab": {
          "base_uri": "https://localhost:8080/"
        },
        "outputId": "496020d3-12b8-4043-fbc1-2fb3ba2d009e"
      },
      "source": [
        "correlations = data.corr()\n",
        "print(correlations)"
      ],
      "execution_count": 10,
      "outputs": [
        {
          "output_type": "stream",
          "name": "stdout",
          "text": [
            "                      fixed acidity  volatile acidity  ...   alcohol   quality\n",
            "fixed acidity              1.000000         -0.022697  ... -0.120881 -0.113663\n",
            "volatile acidity          -0.022697          1.000000  ...  0.067718 -0.194723\n",
            "citric acid                0.289181         -0.149472  ... -0.075729 -0.009209\n",
            "residual sugar             0.089021          0.064286  ... -0.450631 -0.097577\n",
            "chlorides                  0.023086          0.070512  ... -0.360189 -0.209934\n",
            "free sulfur dioxide       -0.049396         -0.097012  ... -0.250104  0.008158\n",
            "total sulfur dioxide       0.091070          0.089261  ... -0.448892 -0.174737\n",
            "density                    0.265331          0.027114  ... -0.780138 -0.307123\n",
            "pH                        -0.425858         -0.031915  ...  0.121432  0.099427\n",
            "sulphates                 -0.017143         -0.035728  ... -0.017433  0.053678\n",
            "alcohol                   -0.120881          0.067718  ...  1.000000  0.435575\n",
            "quality                   -0.113663         -0.194723  ...  0.435575  1.000000\n",
            "\n",
            "[12 rows x 12 columns]\n"
          ]
        }
      ]
    },
    {
      "cell_type": "markdown",
      "metadata": {
        "id": "l9_WoOZuCGpl"
      },
      "source": [
        "Co-relation plot for seeing how much data corelated to predicting label"
      ]
    },
    {
      "cell_type": "code",
      "metadata": {
        "id": "JNcrWHniBzt7",
        "colab": {
          "base_uri": "https://localhost:8080/",
          "height": 480
        },
        "outputId": "2cafd6ad-ce51-4652-97e4-0f71d98db313"
      },
      "source": [
        "corelation=data.corr()\n",
        "plt.figure(figsize=(7,6))\n",
        "sns.heatmap(corelation,annot=True)"
      ],
      "execution_count": 11,
      "outputs": [
        {
          "output_type": "execute_result",
          "data": {
            "text/plain": [
              "<matplotlib.axes._subplots.AxesSubplot at 0x7f840ae1dc10>"
            ]
          },
          "metadata": {},
          "execution_count": 11
        },
        {
          "output_type": "display_data",
          "data": {
            "image/png": "[encoded data removed]",
            "text/plain": [
              "<Figure size 504x432 with 2 Axes>"
            ]
          },
          "metadata": {
            "needs_background": "light"
          }
        }
      ]
    },
    {
      "cell_type": "code",
      "metadata": {
        "id": "UUsm2QDyR9uA"
      },
      "source": [
        "#next we shall add a new column called Review. This column will contain the values of 1,2, and 3,4. \n",
        "#1 - Poor\n",
        "#2 - Average\n",
        "#3 - Good\n",
        "#4 - Excellent\n",
        "#This will be split in the following way. \n",
        "#1,2,3 --> Poor\n",
        "#4,5 --> Average\n",
        "#6,7 --> Good\n",
        "#8,9,10->Excellent\n",
        "#Create an empty list called Reviews.\n",
        "\n",
        "reviews = []\n",
        "for i in data['quality']:\n",
        "    if i >= 1 and i <= 3:\n",
        "        reviews.append('1')\n",
        "    elif i >= 4 and i <= 5:\n",
        "        reviews.append('2')\n",
        "    elif i >= 6 and i <= 7:\n",
        "        reviews.append('3')\n",
        "    elif i >= 8 and i <= 10:\n",
        "        reviews.append('4')\n",
        "data['Reviews'] = reviews"
      ],
      "execution_count": 12,
      "outputs": []
    },
    {
      "cell_type": "code",
      "metadata": {
        "id": "q_ikaNH4TWnX",
        "colab": {
          "base_uri": "https://localhost:8080/"
        },
        "outputId": "700e18f9-9714-4c2a-8ef8-c2c94b92216c"
      },
      "source": [
        "#view newly added column\n",
        "data.columns"
      ],
      "execution_count": 13,
      "outputs": [
        {
          "output_type": "execute_result",
          "data": {
            "text/plain": [
              "Index(['fixed acidity', 'volatile acidity', 'citric acid', 'residual sugar',\n",
              "       'chlorides', 'free sulfur dioxide', 'total sulfur dioxide', 'density',\n",
              "       'pH', 'sulphates', 'alcohol', 'quality', 'Reviews'],\n",
              "      dtype='object')"
            ]
          },
          "metadata": {},
          "execution_count": 13
        }
      ]
    },
    {
      "cell_type": "markdown",
      "metadata": {
        "id": "KVMqaYFYgPoH"
      },
      "source": [
        "After add new column following are the datatypes of each attribute"
      ]
    },
    {
      "cell_type": "code",
      "metadata": {
        "colab": {
          "base_uri": "https://localhost:8080/"
        },
        "id": "-OEYmeTzWAS3",
        "outputId": "1fd57146-ad2a-4b54-a592-4d24873b1939"
      },
      "source": [
        "data.dtypes"
      ],
      "execution_count": 14,
      "outputs": [
        {
          "output_type": "execute_result",
          "data": {
            "text/plain": [
              "fixed acidity           float64\n",
              "volatile acidity        float64\n",
              "citric acid             float64\n",
              "residual sugar          float64\n",
              "chlorides               float64\n",
              "free sulfur dioxide     float64\n",
              "total sulfur dioxide    float64\n",
              "density                 float64\n",
              "pH                      float64\n",
              "sulphates               float64\n",
              "alcohol                 float64\n",
              "quality                   int64\n",
              "Reviews                  object\n",
              "dtype: object"
            ]
          },
          "metadata": {},
          "execution_count": 14
        }
      ]
    },
    {
      "cell_type": "code",
      "metadata": {
        "id": "Io135UZ2ThFT",
        "colab": {
          "base_uri": "https://localhost:8080/"
        },
        "outputId": "93fde53c-b663-4e41-f87c-e51d9dc926f7"
      },
      "source": [
        "data['Reviews'].unique()"
      ],
      "execution_count": 15,
      "outputs": [
        {
          "output_type": "execute_result",
          "data": {
            "text/plain": [
              "array(['3', '2', '4', '1'], dtype=object)"
            ]
          },
          "metadata": {},
          "execution_count": 15
        }
      ]
    },
    {
      "cell_type": "markdown",
      "metadata": {
        "id": "MbLD0dUsge0u"
      },
      "source": [
        "Count the records which are present in differnt differnt review value"
      ]
    },
    {
      "cell_type": "code",
      "metadata": {
        "id": "lS_gQXrnUFgy",
        "colab": {
          "base_uri": "https://localhost:8080/"
        },
        "outputId": "508ce86d-8f9e-46f2-83a1-ef1217a0d51b"
      },
      "source": [
        "Counter(data['Reviews'])"
      ],
      "execution_count": 16,
      "outputs": [
        {
          "output_type": "execute_result",
          "data": {
            "text/plain": [
              "Counter({'1': 20, '2': 1620, '3': 3078, '4': 180})"
            ]
          },
          "metadata": {},
          "execution_count": 16
        }
      ]
    },
    {
      "cell_type": "code",
      "metadata": {
        "id": "iYVwjgi1IPcW",
        "colab": {
          "base_uri": "https://localhost:8080/"
        },
        "outputId": "26628609-2838-4376-9b28-dc23f4c42d5f"
      },
      "source": [
        "data.shape"
      ],
      "execution_count": 17,
      "outputs": [
        {
          "output_type": "execute_result",
          "data": {
            "text/plain": [
              "(4898, 13)"
            ]
          },
          "metadata": {},
          "execution_count": 17
        }
      ]
    },
    {
      "cell_type": "code",
      "metadata": {
        "id": "VYJGpZv7RCrz",
        "colab": {
          "base_uri": "https://localhost:8080/",
          "height": 297
        },
        "outputId": "d6dcfd70-5f02-4049-bef5-023f419d1829"
      },
      "source": [
        "#count of the target variable\n",
        "sns.countplot(x='Reviews', data=data)"
      ],
      "execution_count": 18,
      "outputs": [
        {
          "output_type": "execute_result",
          "data": {
            "text/plain": [
              "<matplotlib.axes._subplots.AxesSubplot at 0x7f84023dd610>"
            ]
          },
          "metadata": {},
          "execution_count": 18
        },
        {
          "output_type": "display_data",
          "data": {
            "image/png": "[encoded data removed]",
            "text/plain": [
              "<Figure size 432x288 with 1 Axes>"
            ]
          },
          "metadata": {
            "needs_background": "light"
          }
        }
      ]
    },
    {
      "cell_type": "markdown",
      "metadata": {
        "id": "yzzsDWw1g3I5"
      },
      "source": [
        "Splitting the attributes in dependent variable and non-dependent variable."
      ]
    },
    {
      "cell_type": "code",
      "metadata": {
        "id": "m0o_1SGDRuym"
      },
      "source": [
        "x = data.iloc[:,:11]\n",
        "y = data['Reviews']"
      ],
      "execution_count": 19,
      "outputs": []
    },
    {
      "cell_type": "code",
      "metadata": {
        "id": "bedRq28KR3sf",
        "colab": {
          "base_uri": "https://localhost:8080/"
        },
        "outputId": "d5bd6d26-e986-4556-9c7b-bbf65a843f4e"
      },
      "source": [
        "print(y)"
      ],
      "execution_count": 20,
      "outputs": [
        {
          "output_type": "stream",
          "name": "stdout",
          "text": [
            "0       3\n",
            "1       3\n",
            "2       3\n",
            "3       3\n",
            "4       3\n",
            "       ..\n",
            "4893    3\n",
            "4894    2\n",
            "4895    3\n",
            "4896    3\n",
            "4897    3\n",
            "Name: Reviews, Length: 4898, dtype: object\n"
          ]
        }
      ]
    },
    {
      "cell_type": "code",
      "metadata": {
        "id": "VYnxTCn2z3h0",
        "colab": {
          "base_uri": "https://localhost:8080/"
        },
        "outputId": "e21027f2-5853-4257-d573-5d5fb01d7b14"
      },
      "source": [
        "print(x)"
      ],
      "execution_count": 21,
      "outputs": [
        {
          "output_type": "stream",
          "name": "stdout",
          "text": [
            "      fixed acidity  volatile acidity  citric acid  ...    pH  sulphates  alcohol\n",
            "0               7.0              0.27         0.36  ...  3.00       0.45      8.8\n",
            "1               6.3              0.30         0.34  ...  3.30       0.49      9.5\n",
            "2               8.1              0.28         0.40  ...  3.26       0.44     10.1\n",
            "3               7.2              0.23         0.32  ...  3.19       0.40      9.9\n",
            "4               7.2              0.23         0.32  ...  3.19       0.40      9.9\n",
            "...             ...               ...          ...  ...   ...        ...      ...\n",
            "4893            6.2              0.21         0.29  ...  3.27       0.50     11.2\n",
            "4894            6.6              0.32         0.36  ...  3.15       0.46      9.6\n",
            "4895            6.5              0.24         0.19  ...  2.99       0.46      9.4\n",
            "4896            5.5              0.29         0.30  ...  3.34       0.38     12.8\n",
            "4897            6.0              0.21         0.38  ...  3.26       0.32     11.8\n",
            "\n",
            "[4898 rows x 11 columns]\n"
          ]
        }
      ]
    },
    {
      "cell_type": "code",
      "metadata": {
        "id": "CUZKBpSlCuIR",
        "colab": {
          "base_uri": "https://localhost:8080/",
          "height": 354
        },
        "outputId": "a10ef2d8-e3ae-4372-ae6c-e5897e306c94"
      },
      "source": [
        "#Plot a boxplot to check for Outliers\n",
        "#Target variable is Reviews. So will plot a boxplot each column against target variable\n",
        "sns.boxplot('Reviews', 'fixed acidity', data = data)"
      ],
      "execution_count": 22,
      "outputs": [
        {
          "output_type": "stream",
          "name": "stderr",
          "text": [
            "/usr/local/lib/python3.7/dist-packages/seaborn/_decorators.py:43: FutureWarning: Pass the following variables as keyword args: x, y. From version 0.12, the only valid positional argument will be `data`, and passing other arguments without an explicit keyword will result in an error or misinterpretation.\n",
            "  FutureWarning\n"
          ]
        },
        {
          "output_type": "execute_result",
          "data": {
            "text/plain": [
              "<matplotlib.axes._subplots.AxesSubplot at 0x7f8400b80bd0>"
            ]
          },
          "metadata": {},
          "execution_count": 22
        },
        {
          "output_type": "display_data",
          "data": {
            "image/png": "[encoded data removed]",
            "text/plain": [
              "<Figure size 432x288 with 1 Axes>"
            ]
          },
          "metadata": {
            "needs_background": "light"
          }
        }
      ]
    },
    {
      "cell_type": "code",
      "metadata": {
        "id": "q5gUhi7uC_Gm",
        "colab": {
          "base_uri": "https://localhost:8080/",
          "height": 354
        },
        "outputId": "124ca970-c2cf-43b4-e1ab-8917319651a3"
      },
      "source": [
        "sns.boxplot('Reviews', 'volatile acidity', data = data)"
      ],
      "execution_count": 23,
      "outputs": [
        {
          "output_type": "stream",
          "name": "stderr",
          "text": [
            "/usr/local/lib/python3.7/dist-packages/seaborn/_decorators.py:43: FutureWarning: Pass the following variables as keyword args: x, y. From version 0.12, the only valid positional argument will be `data`, and passing other arguments without an explicit keyword will result in an error or misinterpretation.\n",
            "  FutureWarning\n"
          ]
        },
        {
          "output_type": "execute_result",
          "data": {
            "text/plain": [
              "<matplotlib.axes._subplots.AxesSubplot at 0x7f8400aa0b90>"
            ]
          },
          "metadata": {},
          "execution_count": 23
        },
        {
          "output_type": "display_data",
          "data": {
            "image/png": "[encoded data removed]",
            "text/plain": [
              "<Figure size 432x288 with 1 Axes>"
            ]
          },
          "metadata": {
            "needs_background": "light"
          }
        }
      ]
    },
    {
      "cell_type": "code",
      "metadata": {
        "id": "-VJPwaxYDGHJ",
        "colab": {
          "base_uri": "https://localhost:8080/",
          "height": 354
        },
        "outputId": "ebff75b9-677b-461d-be3d-d2071fe4f14e"
      },
      "source": [
        "sns.boxplot('Reviews', 'citric acid', data = data)"
      ],
      "execution_count": 24,
      "outputs": [
        {
          "output_type": "stream",
          "name": "stderr",
          "text": [
            "/usr/local/lib/python3.7/dist-packages/seaborn/_decorators.py:43: FutureWarning: Pass the following variables as keyword args: x, y. From version 0.12, the only valid positional argument will be `data`, and passing other arguments without an explicit keyword will result in an error or misinterpretation.\n",
            "  FutureWarning\n"
          ]
        },
        {
          "output_type": "execute_result",
          "data": {
            "text/plain": [
              "<matplotlib.axes._subplots.AxesSubplot at 0x7f84009da910>"
            ]
          },
          "metadata": {},
          "execution_count": 24
        },
        {
          "output_type": "display_data",
          "data": {
            "image/png": "[encoded data removed]",
            "text/plain": [
              "<Figure size 432x288 with 1 Axes>"
            ]
          },
          "metadata": {
            "needs_background": "light"
          }
        }
      ]
    },
    {
      "cell_type": "code",
      "metadata": {
        "id": "nikkHKOuDRDv",
        "colab": {
          "base_uri": "https://localhost:8080/",
          "height": 354
        },
        "outputId": "018e68b6-a721-45fb-9822-9ba2e85c0926"
      },
      "source": [
        "sns.boxplot('Reviews', 'residual sugar', data = data)"
      ],
      "execution_count": 25,
      "outputs": [
        {
          "output_type": "stream",
          "name": "stderr",
          "text": [
            "/usr/local/lib/python3.7/dist-packages/seaborn/_decorators.py:43: FutureWarning: Pass the following variables as keyword args: x, y. From version 0.12, the only valid positional argument will be `data`, and passing other arguments without an explicit keyword will result in an error or misinterpretation.\n",
            "  FutureWarning\n"
          ]
        },
        {
          "output_type": "execute_result",
          "data": {
            "text/plain": [
              "<matplotlib.axes._subplots.AxesSubplot at 0x7f840095fdd0>"
            ]
          },
          "metadata": {},
          "execution_count": 25
        },
        {
          "output_type": "display_data",
          "data": {
            "image/png": "[encoded data removed]",
            "text/plain": [
              "<Figure size 432x288 with 1 Axes>"
            ]
          },
          "metadata": {
            "needs_background": "light"
          }
        }
      ]
    },
    {
      "cell_type": "code",
      "metadata": {
        "id": "6qXGKKB9DhpG",
        "colab": {
          "base_uri": "https://localhost:8080/",
          "height": 354
        },
        "outputId": "74de8c14-1c1a-4498-fba7-3b0477d2b5a5"
      },
      "source": [
        "sns.boxplot('Reviews', 'chlorides', data = data)"
      ],
      "execution_count": 26,
      "outputs": [
        {
          "output_type": "stream",
          "name": "stderr",
          "text": [
            "/usr/local/lib/python3.7/dist-packages/seaborn/_decorators.py:43: FutureWarning: Pass the following variables as keyword args: x, y. From version 0.12, the only valid positional argument will be `data`, and passing other arguments without an explicit keyword will result in an error or misinterpretation.\n",
            "  FutureWarning\n"
          ]
        },
        {
          "output_type": "execute_result",
          "data": {
            "text/plain": [
              "<matplotlib.axes._subplots.AxesSubplot at 0x7f84008b7310>"
            ]
          },
          "metadata": {},
          "execution_count": 26
        },
        {
          "output_type": "display_data",
          "data": {
            "image/png": "[encoded data removed]",
            "text/plain": [
              "<Figure size 432x288 with 1 Axes>"
            ]
          },
          "metadata": {
            "needs_background": "light"
          }
        }
      ]
    },
    {
      "cell_type": "code",
      "metadata": {
        "id": "f3T_uDVADh98",
        "colab": {
          "base_uri": "https://localhost:8080/",
          "height": 356
        },
        "outputId": "2263891d-e134-4ca1-96be-48f5a7a3ba58"
      },
      "source": [
        "sns.boxplot('Reviews', 'free sulfur dioxide', data = data)"
      ],
      "execution_count": 27,
      "outputs": [
        {
          "output_type": "stream",
          "name": "stderr",
          "text": [
            "/usr/local/lib/python3.7/dist-packages/seaborn/_decorators.py:43: FutureWarning: Pass the following variables as keyword args: x, y. From version 0.12, the only valid positional argument will be `data`, and passing other arguments without an explicit keyword will result in an error or misinterpretation.\n",
            "  FutureWarning\n"
          ]
        },
        {
          "output_type": "execute_result",
          "data": {
            "text/plain": [
              "<matplotlib.axes._subplots.AxesSubplot at 0x7f84007d9490>"
            ]
          },
          "metadata": {},
          "execution_count": 27
        },
        {
          "output_type": "display_data",
          "data": {
            "image/png": "[encoded data removed]",
            "text/plain": [
              "<Figure size 432x288 with 1 Axes>"
            ]
          },
          "metadata": {
            "needs_background": "light"
          }
        }
      ]
    },
    {
      "cell_type": "code",
      "metadata": {
        "id": "8macZJRwDiIn",
        "colab": {
          "base_uri": "https://localhost:8080/",
          "height": 354
        },
        "outputId": "b419212c-6184-4cfa-df4b-0d3a78bb638e"
      },
      "source": [
        "sns.boxplot('Reviews', 'total sulfur dioxide', data = data)"
      ],
      "execution_count": 28,
      "outputs": [
        {
          "output_type": "stream",
          "name": "stderr",
          "text": [
            "/usr/local/lib/python3.7/dist-packages/seaborn/_decorators.py:43: FutureWarning: Pass the following variables as keyword args: x, y. From version 0.12, the only valid positional argument will be `data`, and passing other arguments without an explicit keyword will result in an error or misinterpretation.\n",
            "  FutureWarning\n"
          ]
        },
        {
          "output_type": "execute_result",
          "data": {
            "text/plain": [
              "<matplotlib.axes._subplots.AxesSubplot at 0x7f8400736350>"
            ]
          },
          "metadata": {},
          "execution_count": 28
        },
        {
          "output_type": "display_data",
          "data": {
            "image/png": "[encoded data removed]",
            "text/plain": [
              "<Figure size 432x288 with 1 Axes>"
            ]
          },
          "metadata": {
            "needs_background": "light"
          }
        }
      ]
    },
    {
      "cell_type": "code",
      "metadata": {
        "id": "spT7Gj7NDiTC",
        "colab": {
          "base_uri": "https://localhost:8080/",
          "height": 354
        },
        "outputId": "e34bf952-1d32-455f-d302-472e90dba1e3"
      },
      "source": [
        "sns.boxplot('Reviews', 'density', data = data)"
      ],
      "execution_count": 29,
      "outputs": [
        {
          "output_type": "stream",
          "name": "stderr",
          "text": [
            "/usr/local/lib/python3.7/dist-packages/seaborn/_decorators.py:43: FutureWarning: Pass the following variables as keyword args: x, y. From version 0.12, the only valid positional argument will be `data`, and passing other arguments without an explicit keyword will result in an error or misinterpretation.\n",
            "  FutureWarning\n"
          ]
        },
        {
          "output_type": "execute_result",
          "data": {
            "text/plain": [
              "<matplotlib.axes._subplots.AxesSubplot at 0x7f84007ebf50>"
            ]
          },
          "metadata": {},
          "execution_count": 29
        },
        {
          "output_type": "display_data",
          "data": {
            "image/png": "[encoded data removed]",
            "text/plain": [
              "<Figure size 432x288 with 1 Axes>"
            ]
          },
          "metadata": {
            "needs_background": "light"
          }
        }
      ]
    },
    {
      "cell_type": "code",
      "metadata": {
        "id": "Qk-Z1v8ADidY",
        "colab": {
          "base_uri": "https://localhost:8080/",
          "height": 354
        },
        "outputId": "d5865cb6-9201-4663-bcbe-11224b7ee61b"
      },
      "source": [
        "sns.boxplot('Reviews', 'pH', data = data)"
      ],
      "execution_count": 30,
      "outputs": [
        {
          "output_type": "stream",
          "name": "stderr",
          "text": [
            "/usr/local/lib/python3.7/dist-packages/seaborn/_decorators.py:43: FutureWarning: Pass the following variables as keyword args: x, y. From version 0.12, the only valid positional argument will be `data`, and passing other arguments without an explicit keyword will result in an error or misinterpretation.\n",
            "  FutureWarning\n"
          ]
        },
        {
          "output_type": "execute_result",
          "data": {
            "text/plain": [
              "<matplotlib.axes._subplots.AxesSubplot at 0x7f84006085d0>"
            ]
          },
          "metadata": {},
          "execution_count": 30
        },
        {
          "output_type": "display_data",
          "data": {
            "image/png": "[encoded data removed]",
            "text/plain": [
              "<Figure size 432x288 with 1 Axes>"
            ]
          },
          "metadata": {
            "needs_background": "light"
          }
        }
      ]
    },
    {
      "cell_type": "code",
      "metadata": {
        "id": "c9WcwEBmEDWn",
        "colab": {
          "base_uri": "https://localhost:8080/",
          "height": 354
        },
        "outputId": "453a1a61-e11b-4650-f096-256443e93c44"
      },
      "source": [
        "sns.boxplot('Reviews', 'sulphates', data = data)"
      ],
      "execution_count": 31,
      "outputs": [
        {
          "output_type": "stream",
          "name": "stderr",
          "text": [
            "/usr/local/lib/python3.7/dist-packages/seaborn/_decorators.py:43: FutureWarning: Pass the following variables as keyword args: x, y. From version 0.12, the only valid positional argument will be `data`, and passing other arguments without an explicit keyword will result in an error or misinterpretation.\n",
            "  FutureWarning\n"
          ]
        },
        {
          "output_type": "execute_result",
          "data": {
            "text/plain": [
              "<matplotlib.axes._subplots.AxesSubplot at 0x7f8400a54310>"
            ]
          },
          "metadata": {},
          "execution_count": 31
        },
        {
          "output_type": "display_data",
          "data": {
            "image/png": "[encoded data removed]",
            "text/plain": [
              "<Figure size 432x288 with 1 Axes>"
            ]
          },
          "metadata": {
            "needs_background": "light"
          }
        }
      ]
    },
    {
      "cell_type": "code",
      "metadata": {
        "colab": {
          "base_uri": "https://localhost:8080/",
          "height": 354
        },
        "id": "Gw05ssXSpWrJ",
        "outputId": "233e410e-fc5a-4ddc-e797-3c33d23333c6"
      },
      "source": [
        "sns.boxplot('Reviews', 'alcohol', data = data)"
      ],
      "execution_count": 32,
      "outputs": [
        {
          "output_type": "stream",
          "name": "stderr",
          "text": [
            "/usr/local/lib/python3.7/dist-packages/seaborn/_decorators.py:43: FutureWarning: Pass the following variables as keyword args: x, y. From version 0.12, the only valid positional argument will be `data`, and passing other arguments without an explicit keyword will result in an error or misinterpretation.\n",
            "  FutureWarning\n"
          ]
        },
        {
          "output_type": "execute_result",
          "data": {
            "text/plain": [
              "<matplotlib.axes._subplots.AxesSubplot at 0x7f840050ed10>"
            ]
          },
          "metadata": {},
          "execution_count": 32
        },
        {
          "output_type": "display_data",
          "data": {
            "image/png": "[encoded data removed]",
            "text/plain": [
              "<Figure size 432x288 with 1 Axes>"
            ]
          },
          "metadata": {
            "needs_background": "light"
          }
        }
      ]
    },
    {
      "cell_type": "markdown",
      "metadata": {
        "id": "ZjZU3o7d6suW"
      },
      "source": [
        "we have divide our dataset like 20 percent for test data and 80 percent for the training data. "
      ]
    },
    {
      "cell_type": "code",
      "metadata": {
        "id": "ThBkInp4Urew"
      },
      "source": [
        " x_train,x_test,y_train,y_test=train_test_split(x,y,test_size=0.2,random_state=41)\n",
        " \n",
        " \n",
        "\n"
      ],
      "execution_count": 33,
      "outputs": []
    },
    {
      "cell_type": "code",
      "metadata": {
        "id": "rqKsw6FW0BOJ",
        "colab": {
          "base_uri": "https://localhost:8080/"
        },
        "outputId": "1dc1ff1b-26c5-41e4-d66f-9b7cca2690e0"
      },
      "source": [
        "print(y_train)"
      ],
      "execution_count": 34,
      "outputs": [
        {
          "output_type": "stream",
          "name": "stdout",
          "text": [
            "4595    3\n",
            "1808    2\n",
            "1188    3\n",
            "1388    3\n",
            "1836    3\n",
            "       ..\n",
            "321     2\n",
            "4066    3\n",
            "3980    2\n",
            "931     2\n",
            "1984    4\n",
            "Name: Reviews, Length: 3918, dtype: object\n"
          ]
        }
      ]
    },
    {
      "cell_type": "code",
      "metadata": {
        "id": "7cJ1yPijVsbQ",
        "colab": {
          "base_uri": "https://localhost:8080/"
        },
        "outputId": "c85ec971-b1a1-4898-a585-85e271efa2da"
      },
      "source": [
        "y_train.head(5)"
      ],
      "execution_count": 35,
      "outputs": [
        {
          "output_type": "execute_result",
          "data": {
            "text/plain": [
              "4595    3\n",
              "1808    2\n",
              "1188    3\n",
              "1388    3\n",
              "1836    3\n",
              "Name: Reviews, dtype: object"
            ]
          },
          "metadata": {},
          "execution_count": 35
        }
      ]
    },
    {
      "cell_type": "markdown",
      "metadata": {
        "id": "Lnnrbeec6iMv"
      },
      "source": [
        "In the cell we have to fit our x_train and y_train for using in futher algorithm."
      ]
    },
    {
      "cell_type": "code",
      "metadata": {
        "id": "WneHK5hvwuDk"
      },
      "source": [
        "#feature scaling\n",
        "x_train=sc.fit_transform(x_train)\n",
        "x_test=sc.transform(x_test)"
      ],
      "execution_count": 36,
      "outputs": []
    },
    {
      "cell_type": "code",
      "metadata": {
        "colab": {
          "base_uri": "https://localhost:8080/"
        },
        "id": "fRWfZMYcHfoe",
        "outputId": "f4b4fce7-633b-4429-cc27-80e9b8497303"
      },
      "source": [
        "print(x_train)"
      ],
      "execution_count": 37,
      "outputs": [
        {
          "output_type": "stream",
          "name": "stdout",
          "text": [
            "[[ 0.27991559  1.0942557  -0.28035304 ... -0.77585151 -0.60060471\n",
            "   0.31558978]\n",
            " [ 0.74952296  0.5078455   0.45165799 ... -0.18435112 -0.86337206\n",
            "  -0.90697548]\n",
            " [ 0.27991559 -0.66497489 -0.28035304 ... -0.38151792 -1.38890677\n",
            "  -0.49945372]\n",
            " ...\n",
            " [-0.89410281 -0.56723986 -0.68702583 ...  0.14426021 -0.77578295\n",
            "   0.15258108]\n",
            " [-0.54189729 -0.17629973  0.77699622 ... -0.71012925 -0.95096118\n",
            "  -1.31449723]\n",
            " [ 0.8669248  -0.76270993 -0.28035304 ... -0.31579565 -0.25024824\n",
            "  -1.31449723]]\n"
          ]
        }
      ]
    },
    {
      "cell_type": "code",
      "metadata": {
        "colab": {
          "base_uri": "https://localhost:8080/"
        },
        "id": "dx2JwUhYIIDV",
        "outputId": "19b15e7c-035c-4a6b-c717-1b541d4dd1fe"
      },
      "source": [
        "print(x_test)"
      ],
      "execution_count": 38,
      "outputs": [
        {
          "output_type": "stream",
          "name": "stdout",
          "text": [
            "[[-0.65929913 -1.05591503 -0.11768392 ...  0.341427   -0.51301559\n",
            "   0.64160719]\n",
            " [-0.07228993  3.53763152 -2.06971333 ...  1.19581646 -0.25024824\n",
            "  -1.31449723]\n",
            " [ 0.98432664 -0.56723986  0.69566166 ...  0.7357606   0.01251912\n",
            "   1.04912894]\n",
            " ...\n",
            " [-0.18969177 -0.95817999 -0.19901848 ... -0.71012925  0.01251912\n",
            "  -0.58095807]\n",
            " [-1.24630834 -1.44685516 -0.93102951 ...  0.86720513 -0.60060471\n",
            "   0.96762459]\n",
            " [ 0.16251375 -0.66497489  0.04498519 ... -1.30162964  0.8884103\n",
            "  -0.90697548]]\n"
          ]
        }
      ]
    },
    {
      "cell_type": "markdown",
      "metadata": {
        "id": "3fkumVik4On0"
      },
      "source": [
        "* We have to use differnt types of model to find the most accurate algolithm which we applied on our dataset*\n",
        "# 1. Logistic Regression"
      ]
    },
    {
      "cell_type": "code",
      "metadata": {
        "colab": {
          "base_uri": "https://localhost:8080/"
        },
        "id": "gZicJ6wylgNM",
        "outputId": "a65ba33c-4174-4783-fa51-ce12a4fd14e2"
      },
      "source": [
        "classifier = LogisticRegression(random_state = 0)\n",
        "classifier.fit(x_train, y_train)\n",
        "y_pred = classifier.predict(x_test)\n",
        "cm = confusion_matrix(y_test, y_pred)"
      ],
      "execution_count": 39,
      "outputs": [
        {
          "output_type": "stream",
          "name": "stderr",
          "text": [
            "/usr/local/lib/python3.7/dist-packages/sklearn/linear_model/_logistic.py:940: ConvergenceWarning: lbfgs failed to converge (status=1):\n",
            "STOP: TOTAL NO. of ITERATIONS REACHED LIMIT.\n",
            "\n",
            "Increase the number of iterations (max_iter) or scale the data as shown in:\n",
            "    https://scikit-learn.org/stable/modules/preprocessing.html\n",
            "Please also refer to the documentation for alternative solver options:\n",
            "    https://scikit-learn.org/stable/modules/linear_model.html#logistic-regression\n",
            "  extra_warning_msg=_LOGISTIC_SOLVER_CONVERGENCE_MSG)\n"
          ]
        }
      ]
    },
    {
      "cell_type": "markdown",
      "metadata": {
        "id": "P4dRMvZfudXy"
      },
      "source": [
        ""
      ]
    },
    {
      "cell_type": "code",
      "metadata": {
        "id": "FZg0C8od-YJs",
        "colab": {
          "base_uri": "https://localhost:8080/",
          "height": 753
        },
        "outputId": "92e8c56f-8d60-4ea4-ddd1-f560b6045bda"
      },
      "source": [
        "#print confusion matrix and accuracy score\n",
        "print(\" \"*30)\n",
        "print(\"Confusion Matrix\")\n",
        "print(cm)\n",
        "\n",
        "print(\" \"*30)\n",
        "print('Accuracy Score :',accuracy_score(y_test, y_pred) * 100 ,\"%\")\n",
        "print(\" \"*30)\n",
        "print('Confusion matrix plot')\n",
        "sns.heatmap(confusion_matrix(y_test, y_pred),annot=True,fmt=\"d\")\n",
        "plt.xlabel('predicted')\n",
        "plt.ylabel('true')\n",
        "plt.show()\n",
        "print(\" \"*30)\n",
        "print(\"Classification Report\")\n",
        "print(classification_report(y_test,y_pred))"
      ],
      "execution_count": 40,
      "outputs": [
        {
          "output_type": "stream",
          "name": "stdout",
          "text": [
            "                              \n",
            "Confusion Matrix\n",
            "[[  0   1   2   0]\n",
            " [  0 160 170   0]\n",
            " [  0  69 545   0]\n",
            " [  0   0  33   0]]\n",
            "                              \n",
            "Accuracy Score : 71.93877551020408 %\n",
            "                              \n",
            "Confusion matrix plot\n"
          ]
        },
        {
          "output_type": "display_data",
          "data": {
            "image/png": "[encoded data removed]",
            "text/plain": [
              "<Figure size 432x288 with 2 Axes>"
            ]
          },
          "metadata": {
            "needs_background": "light"
          }
        },
        {
          "output_type": "stream",
          "name": "stdout",
          "text": [
            "                              \n",
            "Classification Report\n",
            "              precision    recall  f1-score   support\n",
            "\n",
            "           1       0.00      0.00      0.00         3\n",
            "           2       0.70      0.48      0.57       330\n",
            "           3       0.73      0.89      0.80       614\n",
            "           4       0.00      0.00      0.00        33\n",
            "\n",
            "    accuracy                           0.72       980\n",
            "   macro avg       0.36      0.34      0.34       980\n",
            "weighted avg       0.69      0.72      0.69       980\n",
            "\n"
          ]
        },
        {
          "output_type": "stream",
          "name": "stderr",
          "text": [
            "/usr/local/lib/python3.7/dist-packages/sklearn/metrics/_classification.py:1272: UndefinedMetricWarning: Precision and F-score are ill-defined and being set to 0.0 in labels with no predicted samples. Use `zero_division` parameter to control this behavior.\n",
            "  _warn_prf(average, modifier, msg_start, len(result))\n"
          ]
        }
      ]
    },
    {
      "cell_type": "markdown",
      "metadata": {
        "id": "O77lYXiWh4hm"
      },
      "source": [
        "In above algorithm we find 71.93% accuracy. then we apply next algorithm"
      ]
    },
    {
      "cell_type": "markdown",
      "metadata": {
        "id": "IWJ6rGs45N1d"
      },
      "source": [
        "\n",
        "# 2. Decision Trees "
      ]
    },
    {
      "cell_type": "code",
      "metadata": {
        "id": "Na74egxBWSwB"
      },
      "source": [
        "from sklearn.tree import DecisionTreeClassifier\n",
        "dt = DecisionTreeClassifier()\n",
        "dt.fit(x_train,y_train)\n",
        "dt_predict = dt.predict(x_test)"
      ],
      "execution_count": 41,
      "outputs": []
    },
    {
      "cell_type": "code",
      "metadata": {
        "id": "1bmfXcOO3OB0",
        "colab": {
          "base_uri": "https://localhost:8080/",
          "height": 697
        },
        "outputId": "4ced4800-a6b5-4494-b475-7d8be712595a"
      },
      "source": [
        "#print confusion matrix and accuracy score\n",
        "print('Confusion Matrix')\n",
        "dt_conf_matrix = confusion_matrix(y_test, dt_predict)\n",
        "dt_acc_score = accuracy_score(y_test, dt_predict)\n",
        "print(dt_conf_matrix)\n",
        "#print(dt_acc_score*100)\n",
        "print(\" \"*30)\n",
        "print(\"*\"* 30)\n",
        "#score=accuracy_score(y_test,pred)\n",
        "print(\"Decision Tree Classifier accuracy is :{}\".format(dt_acc_score*100))\n",
        "print(\" \"*30)\n",
        "print('Confusion matrix plot')\n",
        "sns.heatmap(confusion_matrix(y_test, dt_predict),annot=True,fmt=\"d\")\n",
        "plt.xlabel('predicted')\n",
        "plt.ylabel('true')\n",
        "plt.show()\n",
        "print(\" \"*30)\n",
        "print(\"Classification Report\")\n",
        "print(classification_report(y_test,dt_predict))"
      ],
      "execution_count": 42,
      "outputs": [
        {
          "output_type": "stream",
          "name": "stdout",
          "text": [
            "Confusion Matrix\n",
            "[[  0   1   2   0]\n",
            " [  1 231  94   4]\n",
            " [  3  97 495  19]\n",
            " [  0   1  16  16]]\n",
            "                              \n",
            "******************************\n",
            "Decision Tree Classifier accuracy is :75.71428571428571\n",
            "                              \n",
            "Confusion matrix plot\n"
          ]
        },
        {
          "output_type": "display_data",
          "data": {
            "image/png": "[encoded data removed]",
            "text/plain": [
              "<Figure size 432x288 with 2 Axes>"
            ]
          },
          "metadata": {
            "needs_background": "light"
          }
        },
        {
          "output_type": "stream",
          "name": "stdout",
          "text": [
            "                              \n",
            "Classification Report\n",
            "              precision    recall  f1-score   support\n",
            "\n",
            "           1       0.00      0.00      0.00         3\n",
            "           2       0.70      0.70      0.70       330\n",
            "           3       0.82      0.81      0.81       614\n",
            "           4       0.41      0.48      0.44        33\n",
            "\n",
            "    accuracy                           0.76       980\n",
            "   macro avg       0.48      0.50      0.49       980\n",
            "weighted avg       0.76      0.76      0.76       980\n",
            "\n"
          ]
        }
      ]
    },
    {
      "cell_type": "markdown",
      "metadata": {
        "id": "Vy8oORNJiZ9Y"
      },
      "source": [
        "In above algorithm we got 76.32 %  accuracy which is better than linear regression then we check another one more algorithm."
      ]
    },
    {
      "cell_type": "markdown",
      "metadata": {
        "id": "Wt2n61JTkkJ_"
      },
      "source": [
        "\n",
        "\n",
        "**Overfitting**\n",
        "\n",
        "To explain overfitting, I think it’s best if we look at a dataset. There is a white winequality dataset which is quite famous. This dataset has 11 different attributes that decide the reviews of white wine. These attributes include:\n",
        "\n",
        "    fixed acidity\n",
        "    volatile acidity\n",
        "    citric acid\n",
        "    residual sugar\n",
        "    chlorides\n",
        "    free sulfur dioxide\n",
        "    total sulfur dioxide\n",
        "    density\n",
        "    pH\n",
        "    sulphates\n",
        "    alcohol\n",
        "\n",
        "Based on these different attributes, we are required to predict the reviews on white wine which are varying from 1-4.\n",
        "\n",
        "\n",
        "\n",
        "we calculate accuracies for different values of max_depth and make a plot"
      ]
    },
    {
      "cell_type": "code",
      "metadata": {
        "colab": {
          "base_uri": "https://localhost:8080/",
          "height": 353
        },
        "id": "qtcSPyuJf7zg",
        "outputId": "2138d259-0c92-40e2-b208-0a030b92855a"
      },
      "source": [
        "# import scikit-learn tree and metrics\n",
        "from sklearn import tree\n",
        "from sklearn import metrics\n",
        "\n",
        "# this is our global size of label text\n",
        "# on the plots\n",
        "matplotlib.rc('xtick', labelsize=20)\n",
        "matplotlib.rc('ytick', labelsize=20)\n",
        "\n",
        "# initialize lists to store accuracies\n",
        "# for training and test data\n",
        "# we start with 50% accuracy\n",
        "train_accuracies = [0.5]\n",
        "test_accuracies = [0.5]\n",
        "# iterate over a few depth values\n",
        "for depth in range(1, 25):\n",
        " # init the model\n",
        " dtc = tree.DecisionTreeClassifier(max_depth=depth)\n",
        " # columns/features for training\n",
        " \n",
        " \n",
        " # fit the model on given features\n",
        " dtc.fit(x_train,y_train)\n",
        " # create training & test predictions\n",
        " train_predictions = dtc.predict(x_train)\n",
        " test_predictions = dtc.predict(x_test)\n",
        " # calculate training & test accuracies\n",
        " train_accuracy = metrics.accuracy_score(\n",
        " y_train, train_predictions\n",
        " )\n",
        " test_accuracy = metrics.accuracy_score(\n",
        " y_test, test_predictions\n",
        " )\n",
        "\n",
        " # append accuracies\n",
        " train_accuracies.append(train_accuracy)\n",
        " test_accuracies.append(test_accuracy)\n",
        "# create two plots using matplotlib\n",
        "# and seaborn\n",
        "plt.figure(figsize=(10, 5))\n",
        "sns.set_style(\"whitegrid\")\n",
        "plt.plot(train_accuracies, label=\"train accuracy\")\n",
        "plt.plot(test_accuracies, label=\"test accuracy\")\n",
        "plt.legend(loc=\"upper left\", prop={'size': 15})\n",
        "plt.xticks(range(0, 26, 5))\n",
        "plt.xlabel(\"max_depth\", size=20)\n",
        "plt.ylabel(\"accuracy\", size=20)\n",
        "plt.show()"
      ],
      "execution_count": 43,
      "outputs": [
        {
          "output_type": "display_data",
          "data": {
            "image/png": "[encoded data removed]",
            "text/plain": [
              "<Figure size 720x360 with 1 Axes>"
            ]
          },
          "metadata": {
            "needs_background": "light"
          }
        }
      ]
    },
    {
      "cell_type": "markdown",
      "metadata": {
        "id": "ZwJFhSH9iflU"
      },
      "source": [
        "\n",
        "\n",
        "We see that the best score for test data is obtained when max_depth has a value of 20. As we keep increasing the value of this parameter, test accuracy remains the same or gets worse, but the training accuracy keeps increasing. It means that our simple decision tree model keeps learning about the training data better and better with an increase in max_depth, but the performance on test data does not improve at all.\n",
        "\n",
        "This is called overfitting.\n"
      ]
    },
    {
      "cell_type": "markdown",
      "metadata": {
        "id": "N3oHY5va5j9x"
      },
      "source": [
        "\n",
        "# 3. Naive Bayes"
      ]
    },
    {
      "cell_type": "code",
      "metadata": {
        "id": "-0a4SF1h3Q6T"
      },
      "source": [
        "from sklearn.naive_bayes import GaussianNB\n",
        "nb = GaussianNB()\n",
        "nb.fit(x_train,y_train)\n",
        "nb_predict=nb.predict(x_test)"
      ],
      "execution_count": 44,
      "outputs": []
    },
    {
      "cell_type": "code",
      "metadata": {
        "id": "mmUJ_zJq3edE",
        "colab": {
          "base_uri": "https://localhost:8080/",
          "height": 688
        },
        "outputId": "2488c81c-6dd2-47eb-feaf-535655c11803"
      },
      "source": [
        "#print confusion matrix and accuracy score\n",
        "print('Confusion Matrix')\n",
        "nb_conf_matrix = confusion_matrix(y_test, nb_predict)\n",
        "nb_acc_score = accuracy_score(y_test, nb_predict)\n",
        "print(nb_conf_matrix)\n",
        "\n",
        "print(\"*\"* 30)\n",
        "#score=accuracy_score(y_test,pred)\n",
        "print(\"Naive Bayes Classifier accuracy is :{}\".format(nb_acc_score*100))\n",
        "#print(nb_acc_score*100)\n",
        "print(\" \"*30)\n",
        "print('Confusion matrix plot')\n",
        "sns.heatmap(confusion_matrix(y_test, nb_predict),annot=True,fmt=\"d\")\n",
        "plt.xlabel('predicted')\n",
        "plt.ylabel('true')\n",
        "plt.show()\n",
        "print(\" \"*30)\n",
        "print(\"Classification Report\")\n",
        "print(classification_report(y_test,nb_predict))"
      ],
      "execution_count": 45,
      "outputs": [
        {
          "output_type": "stream",
          "name": "stdout",
          "text": [
            "Confusion Matrix\n",
            "[[  0   1   2   0]\n",
            " [ 10 173 147   0]\n",
            " [  4 137 466   7]\n",
            " [  0   2  28   3]]\n",
            "******************************\n",
            "Naive Bayes Classifier accuracy is :65.51020408163265\n",
            "                              \n",
            "Confusion matrix plot\n"
          ]
        },
        {
          "output_type": "display_data",
          "data": {
            "image/png": "[encoded data removed]",
            "text/plain": [
              "<Figure size 432x288 with 2 Axes>"
            ]
          },
          "metadata": {}
        },
        {
          "output_type": "stream",
          "name": "stdout",
          "text": [
            "                              \n",
            "Classification Report\n",
            "              precision    recall  f1-score   support\n",
            "\n",
            "           1       0.00      0.00      0.00         3\n",
            "           2       0.55      0.52      0.54       330\n",
            "           3       0.72      0.76      0.74       614\n",
            "           4       0.30      0.09      0.14        33\n",
            "\n",
            "    accuracy                           0.66       980\n",
            "   macro avg       0.39      0.34      0.35       980\n",
            "weighted avg       0.65      0.66      0.65       980\n",
            "\n"
          ]
        }
      ]
    },
    {
      "cell_type": "markdown",
      "metadata": {
        "id": "1f9NYNK76Je4"
      },
      "source": [
        "In it we find the lowest accuracy above all the three algorithm which is 65.51 %."
      ]
    },
    {
      "cell_type": "markdown",
      "metadata": {
        "id": "tuHF5RGclZNQ"
      },
      "source": [
        "# KNeighborsClassifier"
      ]
    },
    {
      "cell_type": "code",
      "metadata": {
        "id": "pTGvkw8klsUw"
      },
      "source": [
        "from sklearn.neighbors import KNeighborsClassifier\n",
        "KNN=KNeighborsClassifier()\n",
        "KNN.fit(x_train,y_train)\n",
        "pred=KNN.predict(x_test)"
      ],
      "execution_count": 46,
      "outputs": []
    },
    {
      "cell_type": "code",
      "metadata": {
        "id": "tLWOt0bW3rdD",
        "colab": {
          "base_uri": "https://localhost:8080/",
          "height": 780
        },
        "outputId": "bbba9cf6-5640-4425-f457-b5f77d7085a9"
      },
      "source": [
        "knn_conf_matrix = confusion_matrix(y_test, pred)\n",
        "\n",
        "print(\"*\"* 30)\n",
        "score=accuracy_score(y_test,pred)\n",
        "print(\"KNeighborsClassifier accuracy is :{}\".format(score*100))\n",
        "print(\" \"*30)\n",
        "print('Confusion matrix')\n",
        "print(knn_conf_matrix)\n",
        "print(\" \"*30)\n",
        "print('Confusion matrix plot')\n",
        "sns.heatmap(confusion_matrix(y_test, pred),annot=True,fmt=\"d\")\n",
        "plt.xlabel('predicted')\n",
        "plt.ylabel('true')\n",
        "plt.show()\n",
        "print(\" \"*30)\n",
        "print(\"Classification Report\")\n",
        "print(\" \"*30)\n",
        "print(classification_report(y_test,pred))"
      ],
      "execution_count": 47,
      "outputs": [
        {
          "output_type": "stream",
          "name": "stdout",
          "text": [
            "******************************\n",
            "KNeighborsClassifier accuracy is :73.87755102040816\n",
            "                              \n",
            "Confusion matrix\n",
            "[[  0   1   2   0]\n",
            " [  0 205 124   1]\n",
            " [  0  95 515   4]\n",
            " [  0   1  28   4]]\n",
            "                              \n",
            "Confusion matrix plot\n"
          ]
        },
        {
          "output_type": "display_data",
          "data": {
            "image/png": "[encoded data removed]",
            "text/plain": [
              "<Figure size 432x288 with 2 Axes>"
            ]
          },
          "metadata": {}
        },
        {
          "output_type": "stream",
          "name": "stdout",
          "text": [
            "                              \n",
            "Classification Report\n",
            "                              \n",
            "              precision    recall  f1-score   support\n",
            "\n",
            "           1       0.00      0.00      0.00         3\n",
            "           2       0.68      0.62      0.65       330\n",
            "           3       0.77      0.84      0.80       614\n",
            "           4       0.44      0.12      0.19        33\n",
            "\n",
            "    accuracy                           0.74       980\n",
            "   macro avg       0.47      0.40      0.41       980\n",
            "weighted avg       0.73      0.74      0.73       980\n",
            "\n"
          ]
        },
        {
          "output_type": "stream",
          "name": "stderr",
          "text": [
            "/usr/local/lib/python3.7/dist-packages/sklearn/metrics/_classification.py:1272: UndefinedMetricWarning: Precision and F-score are ill-defined and being set to 0.0 in labels with no predicted samples. Use `zero_division` parameter to control this behavior.\n",
            "  _warn_prf(average, modifier, msg_start, len(result))\n"
          ]
        }
      ]
    },
    {
      "cell_type": "markdown",
      "metadata": {
        "id": "lEJ2jVSI9LiB"
      },
      "source": [
        "From these algo we get accuracy of 73.87% which is compartively only less than decission tree algorithm."
      ]
    },
    {
      "cell_type": "markdown",
      "metadata": {
        "id": "t-BCHA-2jDRM"
      },
      "source": [
        "# In above dataset we find that decision tree algorithm gets max accuracy which is 77.04 % ."
      ]
    },
    {
      "cell_type": "markdown",
      "metadata": {
        "id": "VvNAEEB5ia_1"
      },
      "source": [
        "# Random forest Classification"
      ]
    },
    {
      "cell_type": "code",
      "metadata": {
        "colab": {
          "base_uri": "https://localhost:8080/"
        },
        "id": "5lTmOaewjfVt",
        "outputId": "57a00154-7784-430b-aa41-c546cc83d06d"
      },
      "source": [
        "from sklearn.ensemble import RandomForestClassifier \n",
        "rfc = RandomForestClassifier()\n",
        "rfc.fit(x_train, y_train)"
      ],
      "execution_count": 48,
      "outputs": [
        {
          "output_type": "execute_result",
          "data": {
            "text/plain": [
              "RandomForestClassifier(bootstrap=True, ccp_alpha=0.0, class_weight=None,\n",
              "                       criterion='gini', max_depth=None, max_features='auto',\n",
              "                       max_leaf_nodes=None, max_samples=None,\n",
              "                       min_impurity_decrease=0.0, min_impurity_split=None,\n",
              "                       min_samples_leaf=1, min_samples_split=2,\n",
              "                       min_weight_fraction_leaf=0.0, n_estimators=100,\n",
              "                       n_jobs=None, oob_score=False, random_state=None,\n",
              "                       verbose=0, warm_start=False)"
            ]
          },
          "metadata": {},
          "execution_count": 48
        }
      ]
    },
    {
      "cell_type": "code",
      "metadata": {
        "colab": {
          "base_uri": "https://localhost:8080/",
          "height": 780
        },
        "id": "cFp0dDNRj53u",
        "outputId": "5c7cdf63-a17a-4b36-cbbe-f92c155a50fd"
      },
      "source": [
        "pred = rfc.predict(x_test)\n",
        "rf_conf_matrix = confusion_matrix(y_test, pred)\n",
        "\n",
        "print(\"*\"* 30)\n",
        "score=accuracy_score(y_test,pred)\n",
        "print(\"RandomForestClassifier accuracy is :{}\".format(score*100))\n",
        "print(\" \"*30)\n",
        "print('Confusion matrix')\n",
        "print(rf_conf_matrix)\n",
        "print(\" \"*30)\n",
        "print('Confusion matrix plot')\n",
        "sns.heatmap(confusion_matrix(y_test, pred),annot=True,fmt=\"d\")\n",
        "plt.xlabel('predicted')\n",
        "plt.ylabel('true')\n",
        "plt.show()\n",
        "print(\" \"*30)\n",
        "print(\"Classification Report\")\n",
        "print(\" \"*30)\n",
        "print(classification_report(y_test,pred))"
      ],
      "execution_count": 49,
      "outputs": [
        {
          "output_type": "stream",
          "name": "stdout",
          "text": [
            "******************************\n",
            "RandomForestClassifier accuracy is :82.95918367346938\n",
            "                              \n",
            "Confusion matrix\n",
            "[[  0   1   2   0]\n",
            " [  0 242  88   0]\n",
            " [  0  56 558   0]\n",
            " [  0   0  20  13]]\n",
            "                              \n",
            "Confusion matrix plot\n"
          ]
        },
        {
          "output_type": "display_data",
          "data": {
            "image/png": "[encoded data removed]",
            "text/plain": [
              "<Figure size 432x288 with 2 Axes>"
            ]
          },
          "metadata": {}
        },
        {
          "output_type": "stream",
          "name": "stdout",
          "text": [
            "                              \n",
            "Classification Report\n",
            "                              \n",
            "              precision    recall  f1-score   support\n",
            "\n",
            "           1       0.00      0.00      0.00         3\n",
            "           2       0.81      0.73      0.77       330\n",
            "           3       0.84      0.91      0.87       614\n",
            "           4       1.00      0.39      0.57        33\n",
            "\n",
            "    accuracy                           0.83       980\n",
            "   macro avg       0.66      0.51      0.55       980\n",
            "weighted avg       0.83      0.83      0.82       980\n",
            "\n"
          ]
        },
        {
          "output_type": "stream",
          "name": "stderr",
          "text": [
            "/usr/local/lib/python3.7/dist-packages/sklearn/metrics/_classification.py:1272: UndefinedMetricWarning: Precision and F-score are ill-defined and being set to 0.0 in labels with no predicted samples. Use `zero_division` parameter to control this behavior.\n",
            "  _warn_prf(average, modifier, msg_start, len(result))\n"
          ]
        }
      ]
    },
    {
      "cell_type": "markdown",
      "metadata": {
        "id": "LfZVxj50muKs"
      },
      "source": [
        "# We got maximum accuracy in this model among all the models we applied earlier."
      ]
    }
  ]
}